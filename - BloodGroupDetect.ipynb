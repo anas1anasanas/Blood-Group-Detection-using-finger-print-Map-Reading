# Importing Libraries
import os
import glob
import numpy as np
import seaborn as sns
import matplotlib.pyplot as plt
import pandas as pd
from sklearn.model_selection import train_test_split
from sklearn.metrics import classification_report
from tensorflow.keras.preprocessing.image import ImageDataGenerator
from tensorflow.keras.models import Model
from tensorflow.keras.layers import Conv2D, MaxPooling2D, Flatten, Dense, Dropout
from tensorflow.keras.callbacks import Callback, EarlyStopping
from tensorflow.keras.applications import ResNet50
from tensorflow.keras.applications.resnet50 import preprocess_input
import os

# Define the path to your dataset
dataset_path = 'C:\\anas\\dataset_blood_group'

# Verify the directory exists
if os.path.exists(dataset_path):
    # List contents of the dataset directory
    print("Contents of the dataset directory:")
    print(os.listdir(dataset_path))
    # List all folders (blood group categories) in the dataset
    name_class = os.listdir(dataset_path)
    print("Blood group categories:")
    print(name_class)
else:
    print(f"The directory {dataset_path} does not exist.")
    
from PIL import Image
import os

# Path to the dataset
file_path = 'C:\\anas\\dataset_blood_group'

# List all folders (blood group categories) in the dataset
name_class = os.listdir(file_path)

# Loop through each blood group folder
for folder in name_class:
    folder_path = os.path.join(file_path, folder)

    # List images in the current folder
    images = os.listdir(folder_path)
    print(f"Processing folder: {folder} - Total images: {len(images)}")

    # Example: Open and display the first image in the folder
    if images:  # Check if the folder has any images
        img_path = os.path.join(folder_path, images[0])
        img = Image.open(img_path)

        # Display image properties
        print(f"First image in {folder}: {images[0]} - Size: {img.size}, Format: {img.format}")

import os
import glob

# Path to the dataset
file_path = 'C:\\anas\\dataset_blood_group'

# Use glob to list all file paths recursively
filepaths = list(glob.glob(file_path + '/**/*.*', recursive=True))

# Print the file paths
print("File paths in the dataset:")
for path in filepaths:
    print(path)

import glob
import os
import pandas as pd

# Path to the dataset
file_path = 'C:\\anas\\dataset_blood_group'

# Gather all file paths
filepaths = glob.glob(file_path + '/**/*.*', recursive=True)

# Check if filepaths list is empty
if not filepaths:
    print("No file paths were found. Please check the dataset path.")
else:
    # Generate labels from folder names
    labels = [os.path.basename(os.path.dirname(filepath)) for filepath in filepaths]

    # Create pandas DataFrame
    data = pd.DataFrame({'Filepath': filepaths, 'Label': labels}).sample(frac=1).reset_index(drop=True)

import seaborn as sns
import matplotlib.pyplot as plt

# Count the occurrences of each label
counts = data.Label.value_counts()

# Create a bar plot
sns.barplot(x=counts.index, y=counts)
plt.xlabel('Type')
plt.ylabel('Count')
plt.xticks(rotation=90)
plt.show()

from sklearn.model_selection import train_test_split

# Splitting the data
train, test = train_test_split(data, test_size=0.25, random_state=42)

import matplotlib.pyplot as plt
import matplotlib.image as mpimg

# Define the number of rows and columns for the grid of images
nrows, ncols = 5, 3

# Create a figure and display images
fig, axes = plt.subplots(nrows=nrows, ncols=ncols, figsize=(10, 8), subplot_kw={'xticks': [], 'yticks': []})
for i, ax in enumerate(axes.flat):
    if i < len(data):
        img = mpimg.imread(data.Filepath.iloc[i])
        ax.imshow(img)
        ax.set_title(data.Label.iloc[i])
    else:
        ax.set_visible(False)

plt.tight_layout()
plt.show()

# Data generators
train_datagen = ImageDataGenerator(preprocessing_function=None)
test_datagen = ImageDataGenerator(preprocessing_function=None)

train_gen = train_datagen.flow_from_dataframe(train, x_col='Filepath', y_col='Label', target_size=[256, 256], class_mode='categorical', batch_size=32)
test_gen = test_datagen.flow_from_dataframe(test, x_col='Filepath', y_col='Label', target_size=[256, 256], class_mode='categorical', batch_size=32, shuffle=False)

import os
import shutil

# Create the directory for the test_gen images
test_gen_folder = 'C:\\anas\\test_gen'
os.makedirs(test_gen_folder, exist_ok=True)

# Load pretrained ResNet50 model
pretrained_model = ResNet50(input_shape=[256, 256, 3], include_top=False, weights='imagenet', pooling='avg')
pretrained_model.trainable = False

# Model definition
x = Dense(128, activation='relu')(pretrained_model.output)
x = Dense(128, activation='relu')(x)
outputs = Dense(len(name_class), activation='softmax')(x)

model = Model(inputs=pretrained_model.input, outputs=outputs)
model.compile(optimizer='adam', loss='categorical_crossentropy', metrics=['accuracy'])

from tensorflow.keras.callbacks import EarlyStopping

# Early stopping callback
early_stop = EarlyStopping(monitor='val_accuracy', patience=2)

# Model training
history = model.fit(train_gen, validation_data=test_gen, epochs=120, callbacks=[early_stop])

# Save the model
model.save('C:\\anas\\model_blood_group_detection.keras')

import pandas as pd
import matplotlib.pyplot as plt

# Convert history to DataFrame
history_df = pd.DataFrame(history.history)

# Plot Accuracy and Loss
plt.figure(figsize=(12, 5))
plt.subplot(1, 2, 1)
history_df[['accuracy', 'val_accuracy']].plot(ax=plt.gca())
plt.title("Accuracy")

plt.subplot(1, 2, 2)
history_df[['loss', 'val_loss']].plot(ax=plt.gca())
plt.title("Loss")

plt.tight_layout()
plt.show()

# Model evaluation
test_loss, test_accuracy = model.evaluate(test_gen)
print(f"Test Loss: {test_loss:.4f}")
print(f"Test Accuracy: {test_accuracy:.4f}")

import numpy as np
from sklearn.metrics import classification_report

# Predictions
pred = model.predict(test_gen)
pred_classes = np.argmax(pred, axis=1)

labels = dict((v, k) for k, v in train_gen.class_indices.items())

pred_labels = [labels[k] for k in pred_classes]
true_labels = [labels[k] for k in test_gen.classes]

# Print Classification Report
print("Classification Report:")
print(classification_report(true_labels, pred_labels))

import io
from ipywidgets import FileUpload
from IPython.display import display
from PIL import Image

# Upload widget
upload = FileUpload(accept='image/*')
display(upload)
